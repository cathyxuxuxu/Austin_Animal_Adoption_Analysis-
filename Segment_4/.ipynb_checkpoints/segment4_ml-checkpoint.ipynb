{
 "cells": [
  {
   "cell_type": "code",
   "execution_count": 2,
   "metadata": {},
   "outputs": [],
   "source": [
    "import pandas as pd\n",
    "import numpy as np\n",
    "from sqlalchemy import create_engine\n",
    "from config import db_password\n",
    "# Initial imports.\n",
    "import pandas as pd\n",
    "from path import Path\n",
    "from sklearn.ensemble import RandomForestClassifier\n",
    "from sklearn.preprocessing import StandardScaler\n",
    "from sklearn.model_selection import train_test_split\n",
    "from sklearn.metrics import confusion_matrix, accuracy_score, classification_report"
   ]
  },
  {
   "cell_type": "code",
   "execution_count": null,
   "metadata": {},
   "outputs": [],
   "source": [
    "df=pd.read_csv('../../all_records.csv')"
   ]
  },
  {
   "cell_type": "code",
   "execution_count": null,
   "metadata": {},
   "outputs": [],
   "source": [
    "df=df.drop(columns=['Unnamed: 0','Name_outcome','MonthYear_intake','MonthYear_outcome',\n",
    "                    'gender_intake','gender_outcome','fixed_intake','fixed_outcome','Days_length','Outcome_Subtype',\n",
    "                   'retriever','shepherd','beagle','terrier','boxer','poodle','rottweiler','dachshund','chihuahua',\n",
    "                   'pit bull','Age','Age_upon_Outcome','Found_Location'])\n",
    "df.head()"
   ]
  },
  {
   "cell_type": "markdown",
   "metadata": {},
   "source": [
    "# Preprocessing Data"
   ]
  },
  {
   "cell_type": "code",
   "execution_count": null,
   "metadata": {},
   "outputs": [],
   "source": [
    "# Change Name_Intake to Yes or No\n",
    "df.Name_intake = df.Name_intake.apply(lambda x: 'No' if pd.isnull(x) else 'Yes')\n",
    "df.Name_intake.value_counts()"
   ]
  },
  {
   "cell_type": "code",
   "execution_count": null,
   "metadata": {},
   "outputs": [],
   "source": [
    "df.isnull().sum()"
   ]
  },
  {
   "cell_type": "code",
   "execution_count": null,
   "metadata": {},
   "outputs": [],
   "source": [
    "df=df.dropna()"
   ]
  },
  {
   "cell_type": "code",
   "execution_count": null,
   "metadata": {},
   "outputs": [],
   "source": [
    "# Check for duplicates rows\n",
    "count=0\n",
    "for i in df['Animal ID'].duplicated():\n",
    "    if i is True:\n",
    "        count+=1\n",
    "count"
   ]
  },
  {
   "cell_type": "code",
   "execution_count": null,
   "metadata": {},
   "outputs": [],
   "source": [
    "df=df.drop_duplicates(subset='Animal ID')"
   ]
  },
  {
   "cell_type": "code",
   "execution_count": null,
   "metadata": {},
   "outputs": [],
   "source": [
    "# Combine Died & Disposal Outcomes\n",
    "df.loc[df.Outcome_Type == 'Disposal', 'Outcome_Type'] = 'Died'\n",
    "df.Outcome_Type.value_counts()"
   ]
  },
  {
   "cell_type": "code",
   "execution_count": null,
   "metadata": {},
   "outputs": [],
   "source": [
    "# Combine Transfer & Relocate Outcomes\n",
    "df.loc[df.Outcome_Type == 'Relocate', 'Outcome_Type'] = 'Transfer'\n",
    "df.Outcome_Type.value_counts()"
   ]
  },
  {
   "cell_type": "code",
   "execution_count": null,
   "metadata": {},
   "outputs": [],
   "source": [
    "#### Combine Rto-Adopt & Return to Owner\n",
    "df.loc[df.Outcome_Type == 'Rto-Adopt', 'Outcome_Type'] = 'Return to Owner'\n",
    "df.Outcome_Type.value_counts()"
   ]
  },
  {
   "cell_type": "code",
   "execution_count": null,
   "metadata": {},
   "outputs": [],
   "source": [
    "df.loc[df.Outcome_Type == 'Missing', 'Outcome_Type'] = None\n",
    "df.Outcome_Type.value_counts()"
   ]
  },
  {
   "cell_type": "code",
   "execution_count": null,
   "metadata": {},
   "outputs": [],
   "source": [
    "df.loc[df.Outcome_Type == 'Euthanasia', 'Outcome_Type'] = 'Died'\n",
    "df.Outcome_Type.value_counts()"
   ]
  },
  {
   "cell_type": "code",
   "execution_count": null,
   "metadata": {},
   "outputs": [],
   "source": [
    "df.isnull().sum()"
   ]
  },
  {
   "cell_type": "code",
   "execution_count": null,
   "metadata": {},
   "outputs": [],
   "source": [
    "df.dropna()"
   ]
  },
  {
   "cell_type": "code",
   "execution_count": null,
   "metadata": {},
   "outputs": [],
   "source": [
    "# Update DateTime_intake to datatime datatype\n",
    "df.DateTime_intake = pd.to_datetime(df.DateTime_intake, format='%Y-%m-%d')"
   ]
  },
  {
   "cell_type": "code",
   "execution_count": null,
   "metadata": {},
   "outputs": [],
   "source": [
    "# Update DateTime_outcome to datatime datatype\n",
    "df.DateTime_outcome = pd.to_datetime(df.DateTime_outcome, format='%Y-%m-%d')"
   ]
  },
  {
   "cell_type": "code",
   "execution_count": null,
   "metadata": {},
   "outputs": [],
   "source": [
    "# Create a new column and calculate the length of stay\n",
    "df['datetime_length']=df['DateTime_outcome']-df['DateTime_intake']"
   ]
  },
  {
   "cell_type": "code",
   "execution_count": null,
   "metadata": {},
   "outputs": [],
   "source": [
    "# Create a temporary 'int' column and convert datetime to int\n",
    "df['int'] = df['datetime_length'].astype(np.int64)"
   ]
  },
  {
   "cell_type": "code",
   "execution_count": null,
   "metadata": {},
   "outputs": [],
   "source": [
    "# replace negative values to nan\n",
    "df.loc[df.int < 0, 'int'] = None"
   ]
  },
  {
   "cell_type": "code",
   "execution_count": null,
   "metadata": {},
   "outputs": [],
   "source": [
    "# Check for null values\n",
    "df.isnull().sum()"
   ]
  },
  {
   "cell_type": "code",
   "execution_count": null,
   "metadata": {},
   "outputs": [],
   "source": [
    "# drop null values\n",
    "df=df.dropna()"
   ]
  },
  {
   "cell_type": "code",
   "execution_count": null,
   "metadata": {},
   "outputs": [],
   "source": [
    "# drop temporary 'int' column and original DateTime_length column\n",
    "df=df.drop(columns=['DateTime_length','datetime_length'])\n",
    "\n",
    "# Rename calculated length of stay column\n",
    "df.rename(columns = {'int':'DateTime_length'}, inplace = True)"
   ]
  },
  {
   "cell_type": "code",
   "execution_count": null,
   "metadata": {},
   "outputs": [],
   "source": [
    "# Combine Aged and Feral with Other for IntakeCondition\n",
    "df.loc[(df.IntakeCondition == 'Aged') | (df.IntakeCondition == 'Feral'), 'IntakeCondition'] = 'Other'"
   ]
  },
  {
   "cell_type": "code",
   "execution_count": null,
   "metadata": {},
   "outputs": [],
   "source": [
    "# Combine Injured and Sick for Intake Condition\n",
    "df.loc[(df.IntakeCondition == 'Injured') | (df.IntakeCondition == 'Sick'), 'IntakeCondition'] = 'Medical'"
   ]
  },
  {
   "cell_type": "code",
   "execution_count": null,
   "metadata": {},
   "outputs": [],
   "source": [
    "# Combine Pregnant and Nursing for  IntakeCondition\n",
    "df.loc[(df.IntakeCondition == 'Nursing') | (df.IntakeCondition == 'Pregnant'), 'IntakeCondition' ] = 'Maternity'\n",
    "df.IntakeCondition.value_counts()"
   ]
  },
  {
   "cell_type": "code",
   "execution_count": null,
   "metadata": {},
   "outputs": [],
   "source": [
    "# Combine Bird and Livestock with Other for Animal_Type_intake\n",
    "df.loc[(df.Animal_Type_intake == 'Bird') | (df.Animal_Type_intake == 'Livestock'), 'Animal_Type_intake'] = 'Other'\n",
    "df.Animal_Type_intake.value_counts()"
   ]
  },
  {
   "cell_type": "code",
   "execution_count": null,
   "metadata": {},
   "outputs": [],
   "source": [
    "df.rename(columns={'Sex': 'Sex_Intake'}, inplace=True)"
   ]
  },
  {
   "cell_type": "code",
   "execution_count": null,
   "metadata": {},
   "outputs": [],
   "source": [
    "# Find Mix breeds\n",
    "new_breed=[]\n",
    "for i in df['Breed_intake']:\n",
    "    if 'Mix' in i:\n",
    "        i='Mix'\n",
    "    elif \"/\" in i:\n",
    "        i=\"Mix\"\n",
    "    elif 'Chihuahua' in i:\n",
    "        i = 'Chihuahua'\n",
    "    elif 'Retriever' in i or i=='Chesa Bay Retr':\n",
    "        i = 'Retriever Breeds'\n",
    "    elif 'Bull' in i or 'Staffordshire' in i or i=='Chinese Sharpei' or i=='Dogo Argentino' or i=='Boxer':\n",
    "        i = 'Bully Breeds'\n",
    "    elif 'Terrier' in i:\n",
    "        i= 'Terrier Breeds'\n",
    "    elif i=='Bat' or i=='Raccoon' or i=='Opossum' or i=='Duck' or i=='Fox' or i=='Grackle' or i=='Hawk' or i=='Coyote' or i=='Pigeon' or i=='Dove' or i=='Armadillo' or i=='Owl' or i=='Skunk' or i=='Squirrel' or i=='Mockingbird' or i=='Heron' or i=='Sparrow':\n",
    "        i = 'Wildlife'\n",
    "    elif i=='German Shepherd' or i=='Belgian Malinois':\n",
    "        i = 'German Shepherd'\n",
    "    elif 'Pointer' in i or 'Span' in i or i=='Vizsla' or i=='Brittany' or i=='Shiba Inu' or i=='Dalmatian' or i=='Standard Poodle' or i=='Carolina Dog' or i=='Weimaraner':\n",
    "        i = 'Sporting Breeds'\n",
    "    elif 'hound' in i or 'Hound' in i or i=='Beagle' or i=='Saluki' or 'Coon' in i or i=='Catahoula' or i=='Black Mouth Cur' or i=='Harrier' or i=='Blue Lacy' or i=='Treeing Tennesse Brindle' or i=='Whippet':\n",
    "        i = 'Hound Breeds'\n",
    "    elif 'Husky' in i or 'Malamute' in i or 'Eskimo' in i or i=='Finnish Spitz' or i=='Samoyed' or i=='Keeshond' or i=='Jindo':\n",
    "        i = 'Husky Breeds'\n",
    "    elif i=='Shih Tzu' or i=='Miniature Poodle' or i=='Miniature Schnauzer' or i=='Maltese' or i=='Pomeranian' or i=='Lhasa Apso' or i=='Toy Poodle' or i=='Pekingese' or i=='Bichon Frise' or i=='Cavalier Span' or i=='West Highland' or i=='Papillon' or i=='Havanese' or i=='Japanese Chin' or i=='Dandie Dinmont' or i=='Bruss Griffon' or i=='Coton De Tulear' or 'Dachshund' in i or i=='French Bulldog' or i=='Pug' or i=='Miniature Pinscher' or i=='Pbgv':\n",
    "        i = 'Toy Breeds'\n",
    "    elif 'Australian' in i or 'Collie' in i or 'Heeler' in i or 'Sheepdog' in i or i=='English Shepherd' or i=='Dutch Shepherd' or 'Corgi' in i or i=='Beauceron' or i=='Hovawart':\n",
    "        i = 'Herding Breeds'\n",
    "    elif i=='Chinese Sharpei' or i=='Chow Chow' or i=='Standard Schnauzer' or i=='Basenji' or i=='Rottweiler' or i=='Doberman Pinsch':\n",
    "        i = 'Working Breeds'\n",
    "    elif i=='Great Pyrenees' or i=='Great Dane' or i=='Anatol Shepherd' or i=='Cane Corso' or i=='Rhod Ridgeback' or i=='Akita' or i=='Mastiff' or i=='Presa Canario' or 'Bernese' in i or i=='Burmese' or 'Bernard' in i or i=='Leonberger' or i=='Greater Swiss Mountain Dog' or i=='Boerboel'or i=='Landseer':\n",
    "        i = 'X Large Breeds'\n",
    "    elif i=='Domestic Shorthair':\n",
    "        i = 'Domestic Shorthair'\n",
    "    elif i=='Domestic Medium Hair':\n",
    "        i = 'Domestic Medium Hair'\n",
    "    elif i=='Persian' or i=='Siamese' or i=='Domestic Longhair' or i=='Persian' or i=='Himalayan' or i=='Russian Blue' or i=='Bengal' or i=='Devon Rex' or i=='Sphynx' or i=='British Shorthair' or i=='Manx':\n",
    "        i = 'Other Cat'\n",
    "    else:\n",
    "        i='Other'\n",
    "    new_breed.append(i)\n",
    "new_breed"
   ]
  },
  {
   "cell_type": "code",
   "execution_count": null,
   "metadata": {},
   "outputs": [],
   "source": [
    "df[\"new_breed\"]=new_breed"
   ]
  },
  {
   "cell_type": "code",
   "execution_count": null,
   "metadata": {},
   "outputs": [],
   "source": [
    "breed_counts=df['new_breed'].value_counts()\n",
    "breed_counts"
   ]
  },
  {
   "cell_type": "code",
   "execution_count": null,
   "metadata": {},
   "outputs": [],
   "source": [
    "df.loc[df.new_breed == 'Retriever Breeds', 'new_breed'] = 'Sporting Breeds'\n",
    "df.loc[df.new_breed == 'Chihuahua', 'new_breed'] = 'Toy Breeds'\n",
    "df.loc[df.new_breed == 'German Shepherd', 'new_breed'] = 'Working Breeds'\n",
    "df.loc[df.new_breed == 'Husky Breeds', 'new_breed'] = 'Sporting Breeds'\n",
    "df['new_breed'].value_counts()"
   ]
  },
  {
   "cell_type": "code",
   "execution_count": null,
   "metadata": {},
   "outputs": [],
   "source": [
    "replace_breed=breed_counts.loc[breed_counts<150].index.tolist()\n",
    "for i in replace_breed:\n",
    "    df.new_breed = df.new_breed.replace(i,\"Other\")\n",
    "\n",
    "df.new_breed.value_counts()"
   ]
  },
  {
   "cell_type": "code",
   "execution_count": null,
   "metadata": {},
   "outputs": [],
   "source": [
    "# drop and rename\n",
    "df=df.drop(columns=['Breed_intake'])\n",
    "df=df.rename(columns={\"new_breed\": \"Breed_Type\"})\n",
    "df.head()"
   ]
  },
  {
   "cell_type": "code",
   "execution_count": null,
   "metadata": {},
   "outputs": [],
   "source": [
    "colorNew=[]\n",
    "for i in df.Color_intake:\n",
    "    if \"/\" in i:\n",
    "        i=\"Bicolor\"\n",
    "    elif \"Tabby\" in i:\n",
    "        i='Tabby'\n",
    "    elif \"Brindle\" in i:\n",
    "        i=\"Tabby\"\n",
    "    elif \"Merle\" in i:\n",
    "        i=\"Merle\"\n",
    "    elif \"Tiger\" in i:\n",
    "        i=\"Tiger\"\n",
    "    elif \"Tortie\" in i:\n",
    "        i=\"Tabby\"\n",
    "    elif \"Calico\" in i:\n",
    "        i=\"Tabby\"\n",
    "    elif \"Torbie\" in i:\n",
    "        i=\"Tabby\"\n",
    "    elif i==\"Apricot\" or i==\"Gold\" or i==\"Yellow\" or i==\"Fawn\":\n",
    "        i=\"Orange\"\n",
    "    elif \"Blue\" in i:\n",
    "        i=\"Blue\"\n",
    "    elif \"Black\" in i or i==\"Sable\":\n",
    "        i=\"Black\"\n",
    "    elif i==\"Liver\":\n",
    "        i=\"Brown\"\n",
    "    elif \"Point\" in i:\n",
    "        i='Point'\n",
    "    elif \"Tick\" in i:\n",
    "        i=\"Point\"\n",
    "    else:\n",
    "        i=i\n",
    "    colorNew.append(i)\n",
    "print(set(colorNew))\n",
    "print(len(set(colorNew)))"
   ]
  },
  {
   "cell_type": "code",
   "execution_count": null,
   "metadata": {},
   "outputs": [],
   "source": [
    "df['Color_intake']=colorNew"
   ]
  },
  {
   "cell_type": "code",
   "execution_count": null,
   "metadata": {},
   "outputs": [],
   "source": [
    "color_counts=df['Color_intake'].value_counts()\n",
    "color_counts"
   ]
  },
  {
   "cell_type": "code",
   "execution_count": null,
   "metadata": {},
   "outputs": [],
   "source": [
    "df.loc[df.Color_intake.isin(['Red', 'Orange']), 'Color_intake'] = 'Tan'"
   ]
  },
  {
   "cell_type": "code",
   "execution_count": null,
   "metadata": {},
   "outputs": [],
   "source": [
    "replace_color=color_counts.loc[color_counts<500].index.tolist()\n",
    "for i in replace_color:\n",
    "    df.Color_intake = df.Color_intake.replace(i,\"Other\")\n",
    "\n",
    "df.Color_intake.value_counts()"
   ]
  },
  {
   "cell_type": "code",
   "execution_count": null,
   "metadata": {},
   "outputs": [],
   "source": [
    "intake_df=df[['Animal ID','DateTime_intake','Intake_Type','IntakeCondition',\n",
    "             'Animal_Type_intake',\n",
    "              'Name_intake',\n",
    "             'Sex_Intake',\n",
    "             'Color_intake',\n",
    "             'Breed_Type']]\n",
    "\n",
    "columns_intake=['animal_id','datetime_intake','intake_type','intake_condition','animal_type_intake',\n",
    "        'name_intake','sex_intake','color_intake','breed_type']\n",
    "\n",
    "intake_df.columns =columns_intake\n",
    "intake_df.head()"
   ]
  },
  {
   "cell_type": "code",
   "execution_count": null,
   "metadata": {},
   "outputs": [],
   "source": [
    "outcome_df=df[['Animal ID','DateTime_outcome',\n",
    "              'Outcome_Type',\n",
    "              'Sex_upon_Outcome','fixed_changed','Age_Bucket','DateTime_length']]\n",
    "\n",
    "columns_outcome=['animal_id','datetime_outcome','outcome_type',\n",
    "                 'sex_upon_outcome','fixed_changed','age_bucket','datetime_length']\n",
    "\n",
    "outcome_df.columns=columns_outcome\n",
    "\n",
    "outcome_df.head()"
   ]
  },
  {
   "cell_type": "code",
   "execution_count": null,
   "metadata": {},
   "outputs": [],
   "source": [
    "outcome_df.info()"
   ]
  },
  {
   "cell_type": "code",
   "execution_count": null,
   "metadata": {},
   "outputs": [],
   "source": [
    "# merge data\n",
    "all_df = intake_df.merge(outcome_df, on='animal_id', how='left')\n",
    "all_df.head()"
   ]
  },
  {
   "cell_type": "code",
   "execution_count": null,
   "metadata": {},
   "outputs": [],
   "source": [
    "all_df.info()"
   ]
  },
  {
   "cell_type": "code",
   "execution_count": null,
   "metadata": {},
   "outputs": [],
   "source": [
    "new_df=all_df.drop(columns=['animal_id','datetime_intake','datetime_outcome',\n",
    "                    'sex_intake','fixed_changed'])\n",
    "new_df.head()"
   ]
  },
  {
   "cell_type": "code",
   "execution_count": null,
   "metadata": {},
   "outputs": [],
   "source": [
    "from sklearn.preprocessing import LabelEncoder"
   ]
  },
  {
   "cell_type": "code",
   "execution_count": null,
   "metadata": {},
   "outputs": [],
   "source": [
    "# encode text columns with dummy values\n",
    "df_encoded = pd.get_dummies(new_df, columns=['intake_type', 'intake_condition', 'animal_type_intake', 'name_intake', \n",
    "                    'color_intake', 'sex_upon_outcome', 'age_bucket', 'breed_type'])"
   ]
  },
  {
   "cell_type": "code",
   "execution_count": null,
   "metadata": {},
   "outputs": [],
   "source": [
    "le = LabelEncoder()\n",
    "df_encoded['outcome_type'] = le.fit_transform(df_encoded['outcome_type'])\n",
    "le_name_mapping = dict(zip(le.classes_, le.transform(le.classes_)))\n",
    "print(le_name_mapping)"
   ]
  },
  {
   "cell_type": "code",
   "execution_count": null,
   "metadata": {},
   "outputs": [],
   "source": [
    "df_encoded.head()"
   ]
  },
  {
   "cell_type": "code",
   "execution_count": null,
   "metadata": {},
   "outputs": [],
   "source": [
    "# Define the features set.\n",
    "X = df_encoded.copy()\n",
    "X=X.drop('outcome_type',axis=1)\n",
    "X.head()"
   ]
  },
  {
   "cell_type": "code",
   "execution_count": null,
   "metadata": {},
   "outputs": [],
   "source": [
    "# Define the target set.\n",
    "y = df_encoded[\"outcome_type\"].ravel()\n",
    "y[:5]"
   ]
  },
  {
   "cell_type": "code",
   "execution_count": null,
   "metadata": {},
   "outputs": [],
   "source": [
    "# Splitting into Train and Test sets.\n",
    "X_train, X_test, y_train, y_test = train_test_split(X, y, random_state=78)"
   ]
  },
  {
   "cell_type": "code",
   "execution_count": null,
   "metadata": {},
   "outputs": [],
   "source": [
    "# Creating a StandardScaler instance.\n",
    "scaler = StandardScaler()\n",
    "# Fitting the Standard Scaler with the training data.\n",
    "X_scaler = scaler.fit(X_train)\n",
    "\n",
    "# Scaling the data.\n",
    "X_train_scaled = X_scaler.transform(X_train)\n",
    "X_test_scaled = X_scaler.transform(X_test)"
   ]
  },
  {
   "cell_type": "markdown",
   "metadata": {},
   "source": [
    "# Resampling"
   ]
  },
  {
   "cell_type": "code",
   "execution_count": null,
   "metadata": {},
   "outputs": [],
   "source": [
    "from imblearn.combine import SMOTEENN\n",
    "smote_enn = SMOTEENN(random_state=0)\n",
    "X_resampled, y_resampled = smote_enn.fit_resample(X_train_scaled, y_train)"
   ]
  },
  {
   "cell_type": "markdown",
   "metadata": {},
   "source": [
    "# Random Forest"
   ]
  },
  {
   "cell_type": "code",
   "execution_count": null,
   "metadata": {},
   "outputs": [],
   "source": [
    "# Create a random forest classifier.\n",
    "rf_model = RandomForestClassifier(n_estimators=128, random_state=78) "
   ]
  },
  {
   "cell_type": "code",
   "execution_count": null,
   "metadata": {},
   "outputs": [],
   "source": [
    "# Fitting the model\n",
    "rf_model = rf_model.fit(X_resampled, y_resampled)"
   ]
  },
  {
   "cell_type": "code",
   "execution_count": null,
   "metadata": {},
   "outputs": [],
   "source": [
    "# Making predictions using the testing data.\n",
    "predictions = rf_model.predict(X_test_scaled)"
   ]
  },
  {
   "cell_type": "code",
   "execution_count": null,
   "metadata": {},
   "outputs": [],
   "source": [
    "results = pd.DataFrame({\n",
    "   \"Prediction\": predictions,\n",
    "   \"Actual\": y_test\n",
    "}).reset_index(drop=True)\n",
    "results.head()"
   ]
  },
  {
   "cell_type": "code",
   "execution_count": null,
   "metadata": {},
   "outputs": [],
   "source": [
    "# print confusion matrix\n",
    "cm = confusion_matrix(predictions, y_test)\n",
    "cm_df = pd.DataFrame(cm,\n",
    "                     index = ['Adoption', 'Died', 'Return to Owner','Transfer'], \n",
    "                     columns = ['Adoption', 'Died', 'Return to Owner','Transfer'])\n",
    "cm_df"
   ]
  },
  {
   "cell_type": "code",
   "execution_count": null,
   "metadata": {},
   "outputs": [],
   "source": [
    "# Calculating the accuracy score.\n",
    "acc_score = accuracy_score(y_test, predictions)"
   ]
  },
  {
   "cell_type": "code",
   "execution_count": null,
   "metadata": {},
   "outputs": [],
   "source": [
    "print(f\"Accuracy Score : {acc_score}\")\n",
    "# print classification report\n",
    "print(classification_report(predictions, y_test, target_names=['Adoption', 'Died', 'Return to Owner','Transfer']))"
   ]
  },
  {
   "cell_type": "code",
   "execution_count": null,
   "metadata": {},
   "outputs": [],
   "source": [
    "# show feature importance\n",
    "feat_imp = pd.Series(rf_model.feature_importances_, index=X.columns)\n",
    "feat_imp.nlargest(10).plot(kind='bar', figsize=(12,5), cmap='Dark2', edgecolor='black', title='Feature Importance')\n",
    "# plt.xticks(rotation=65)"
   ]
  },
  {
   "cell_type": "markdown",
   "metadata": {},
   "source": [
    "# Boosting Gradient"
   ]
  },
  {
   "cell_type": "code",
   "execution_count": null,
   "metadata": {},
   "outputs": [],
   "source": [
    "from sklearn.ensemble import GradientBoostingClassifier"
   ]
  },
  {
   "cell_type": "code",
   "execution_count": null,
   "metadata": {},
   "outputs": [],
   "source": [
    "classifier = GradientBoostingClassifier(n_estimators=20,\n",
    "   learning_rate=0.5, max_features=5, max_depth=3, random_state=0)\n",
    "\n",
    "classifier.fit(X_resampled, y_resampled)\n",
    "predictions = classifier.predict(X_test_scaled)"
   ]
  },
  {
   "cell_type": "code",
   "execution_count": null,
   "metadata": {},
   "outputs": [],
   "source": [
    "acc_score = accuracy_score(y_test, predictions)\n",
    "print(f\"Accuracy Score : {acc_score}\")\n",
    "print(classification_report(predictions, y_test, target_names=['Adoption', 'Died', 'Return to Owner','Transfer']))"
   ]
  },
  {
   "cell_type": "code",
   "execution_count": null,
   "metadata": {},
   "outputs": [],
   "source": [
    "# show feature importance\n",
    "feat_imp = pd.Series(classifier.feature_importances_, index=X.columns)\n",
    "feat_imp.nlargest(10).plot(kind='bar', figsize=(12,5), cmap='Dark2', edgecolor='black', title='Feature Importance')\n",
    "# plt.xticks(rotation=65)"
   ]
  },
  {
   "cell_type": "code",
   "execution_count": 3,
   "metadata": {},
   "outputs": [
    {
     "data": {
      "text/plain": [
       "['builtins', 'builtins', 'pandas', 'numpy', 'types']"
      ]
     },
     "execution_count": 3,
     "metadata": {},
     "output_type": "execute_result"
    }
   ],
   "source": []
  },
  {
   "cell_type": "code",
   "execution_count": null,
   "metadata": {},
   "outputs": [],
   "source": []
  }
 ],
 "metadata": {
  "kernelspec": {
   "display_name": "mlenv",
   "language": "python",
   "name": "mlenv"
  },
  "language_info": {
   "codemirror_mode": {
    "name": "ipython",
    "version": 3
   },
   "file_extension": ".py",
   "mimetype": "text/x-python",
   "name": "python",
   "nbconvert_exporter": "python",
   "pygments_lexer": "ipython3",
   "version": "3.7.10"
  }
 },
 "nbformat": 4,
 "nbformat_minor": 4
}
